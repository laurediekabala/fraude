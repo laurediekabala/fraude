{
 "cells": [
  {
   "cell_type": "markdown",
   "metadata": {},
   "source": [
    "# Prédiction sur la fraude bancaire\n",
    "### Introduction\n",
    "\n",
    "Dans cette notebook nous allons faire la prédiction concernant la fraude bancaire.\n",
    "Sur ce nous allons suivre les étapes suivantes:\n",
    "1.  Importation de données\n",
    "2.  Analyse exploratoire\n",
    "3.  Pretraitement\n",
    "4.  evaluation du model\n",
    "5.  Enregistrement du model pour le deploiement\n",
    "\n"
   ]
  },
  {
   "cell_type": "markdown",
   "metadata": {},
   "source": [
    "### 1.  Importation de données"
   ]
  },
  {
   "cell_type": "code",
   "execution_count": 18,
   "metadata": {},
   "outputs": [],
   "source": [
    "import pandas as pd \n",
    "import matplotlib.pyplot as plt \n",
    "import numpy as pn \n",
    "import plotly.express as pl \n",
    "data = pd.read_csv(r\"D:\\fraude\\donnees\\bank.csv\")"
   ]
  },
  {
   "cell_type": "markdown",
   "metadata": {},
   "source": [
    " ### 2.  Analyse exploratoire"
   ]
  },
  {
   "cell_type": "code",
   "execution_count": null,
   "metadata": {},
   "outputs": [],
   "source": []
  }
 ],
 "metadata": {
  "kernelspec": {
   "display_name": "Python 3",
   "language": "python",
   "name": "python3"
  },
  "language_info": {
   "codemirror_mode": {
    "name": "ipython",
    "version": 3
   },
   "file_extension": ".py",
   "mimetype": "text/x-python",
   "name": "python",
   "nbconvert_exporter": "python",
   "pygments_lexer": "ipython3",
   "version": "3.11.5"
  },
  "orig_nbformat": 4
 },
 "nbformat": 4,
 "nbformat_minor": 2
}
